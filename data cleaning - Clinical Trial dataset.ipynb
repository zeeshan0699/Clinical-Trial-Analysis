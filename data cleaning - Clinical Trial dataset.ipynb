{
 "cells": [
  {
   "cell_type": "code",
   "execution_count": 1,
   "id": "50b31a7b-e90d-4b05-9d48-4abe77706c23",
   "metadata": {},
   "outputs": [],
   "source": [
    "import pandas as pd\n",
    "import numpy as np\n",
    "import seaborn as sns\n",
    "import matplotlib.pyplot as plt\n"
   ]
  },
  {
   "cell_type": "code",
   "execution_count": 2,
   "id": "d0cc2f5b-4b18-49cb-84a0-fdac9cec1c20",
   "metadata": {},
   "outputs": [],
   "source": [
    "df = pd.read_csv('AERO_BirdsEye_Categorized.csv')"
   ]
  },
  {
   "cell_type": "code",
   "execution_count": 3,
   "id": "5f7ed7a3-4529-4c56-8ae6-3027895bae96",
   "metadata": {},
   "outputs": [
    {
     "name": "stdout",
     "output_type": "stream",
     "text": [
      "<class 'pandas.core.frame.DataFrame'>\n",
      "RangeIndex: 13748 entries, 0 to 13747\n",
      "Data columns (total 15 columns):\n",
      " #   Column          Non-Null Count  Dtype \n",
      "---  ------          --------------  ----- \n",
      " 0   index           13748 non-null  int64 \n",
      " 1   NCT             13748 non-null  object\n",
      " 2   Sponsor         13748 non-null  object\n",
      " 3   Title           13604 non-null  object\n",
      " 4   Summary         13748 non-null  object\n",
      " 5   Start_Year      13748 non-null  int64 \n",
      " 6   Start_Month     13748 non-null  int64 \n",
      " 7   Phase           13485 non-null  object\n",
      " 8   Enrollment      13748 non-null  int64 \n",
      " 9   Status          13748 non-null  object\n",
      " 10  Condition       13748 non-null  object\n",
      " 11  clean_title     13748 non-null  object\n",
      " 12  clean_summary   13748 non-null  object\n",
      " 13  combined_text   13748 non-null  object\n",
      " 14  Trial_Category  13748 non-null  object\n",
      "dtypes: int64(4), object(11)\n",
      "memory usage: 1.6+ MB\n"
     ]
    }
   ],
   "source": [
    "df.info()"
   ]
  },
  {
   "cell_type": "code",
   "execution_count": 4,
   "id": "5f2fbdfd-b4d3-4487-a05a-93131f9161cc",
   "metadata": {},
   "outputs": [
    {
     "data": {
      "text/html": [
       "<div>\n",
       "<style scoped>\n",
       "    .dataframe tbody tr th:only-of-type {\n",
       "        vertical-align: middle;\n",
       "    }\n",
       "\n",
       "    .dataframe tbody tr th {\n",
       "        vertical-align: top;\n",
       "    }\n",
       "\n",
       "    .dataframe thead th {\n",
       "        text-align: right;\n",
       "    }\n",
       "</style>\n",
       "<table border=\"1\" class=\"dataframe\">\n",
       "  <thead>\n",
       "    <tr style=\"text-align: right;\">\n",
       "      <th></th>\n",
       "      <th>index</th>\n",
       "      <th>NCT</th>\n",
       "      <th>Sponsor</th>\n",
       "      <th>Title</th>\n",
       "      <th>Summary</th>\n",
       "      <th>Start_Year</th>\n",
       "      <th>Start_Month</th>\n",
       "      <th>Phase</th>\n",
       "      <th>Enrollment</th>\n",
       "      <th>Status</th>\n",
       "      <th>Condition</th>\n",
       "      <th>clean_title</th>\n",
       "      <th>clean_summary</th>\n",
       "      <th>combined_text</th>\n",
       "      <th>Trial_Category</th>\n",
       "    </tr>\n",
       "  </thead>\n",
       "  <tbody>\n",
       "    <tr>\n",
       "      <th>0</th>\n",
       "      <td>0</td>\n",
       "      <td>NCT00003305</td>\n",
       "      <td>Sanofi</td>\n",
       "      <td>A Phase II Trial of Aminopterin in Adults and ...</td>\n",
       "      <td>RATIONALE: Drugs used in chemotherapy use diff...</td>\n",
       "      <td>1997</td>\n",
       "      <td>7</td>\n",
       "      <td>Phase 2</td>\n",
       "      <td>75</td>\n",
       "      <td>Completed</td>\n",
       "      <td>Leukemia</td>\n",
       "      <td>['ii', 'aminopterin', 'adults', 'children', 'r...</td>\n",
       "      <td>['rationale', 'drugs', 'used', 'chemotherapy',...</td>\n",
       "      <td>A Phase II Trial of Aminopterin in Adults and ...</td>\n",
       "      <td>Cancer &amp; Chemotherapy</td>\n",
       "    </tr>\n",
       "    <tr>\n",
       "      <th>1</th>\n",
       "      <td>1</td>\n",
       "      <td>NCT00003821</td>\n",
       "      <td>Sanofi</td>\n",
       "      <td>Phase II Trial of Aminopterin in Patients With...</td>\n",
       "      <td>RATIONALE: Drugs used in chemotherapy use diff...</td>\n",
       "      <td>1998</td>\n",
       "      <td>1</td>\n",
       "      <td>Phase 2</td>\n",
       "      <td>0</td>\n",
       "      <td>Withdrawn</td>\n",
       "      <td>Endometrial Neoplasms</td>\n",
       "      <td>['ii', 'aminopterin', 'persistent', 'or', 'rec...</td>\n",
       "      <td>['rationale', 'drugs', 'used', 'chemotherapy',...</td>\n",
       "      <td>Phase II Trial of Aminopterin in Patients With...</td>\n",
       "      <td>Cancer &amp; Chemotherapy</td>\n",
       "    </tr>\n",
       "    <tr>\n",
       "      <th>2</th>\n",
       "      <td>2</td>\n",
       "      <td>NCT00004025</td>\n",
       "      <td>Sanofi</td>\n",
       "      <td>Phase I/II Trial of the Safety, Immunogenicity...</td>\n",
       "      <td>RATIONALE: Vaccines made from a person's white...</td>\n",
       "      <td>1999</td>\n",
       "      <td>3</td>\n",
       "      <td>Phase 1/Phase 2</td>\n",
       "      <td>36</td>\n",
       "      <td>Unknown status</td>\n",
       "      <td>Melanoma</td>\n",
       "      <td>['iii', 'immunogenicity', 'autologous', 'dendr...</td>\n",
       "      <td>['rationale', 'vaccines', 'made', 'from', 'per...</td>\n",
       "      <td>Phase I/II Trial of the Safety, Immunogenicity...</td>\n",
       "      <td>Cancer &amp; Chemotherapy</td>\n",
       "    </tr>\n",
       "    <tr>\n",
       "      <th>3</th>\n",
       "      <td>3</td>\n",
       "      <td>NCT00005645</td>\n",
       "      <td>Sanofi</td>\n",
       "      <td>Phase II Trial of ILX295501 Administered Orall...</td>\n",
       "      <td>RATIONALE: Drugs used in chemotherapy use diff...</td>\n",
       "      <td>1999</td>\n",
       "      <td>5</td>\n",
       "      <td>Phase 2</td>\n",
       "      <td>0</td>\n",
       "      <td>Withdrawn</td>\n",
       "      <td>Ovarian Neoplasms</td>\n",
       "      <td>['ii', 'ilx295501', 'administered', 'orally', ...</td>\n",
       "      <td>['rationale', 'drugs', 'used', 'chemotherapy',...</td>\n",
       "      <td>Phase II Trial of ILX295501 Administered Orall...</td>\n",
       "      <td>Cancer &amp; Chemotherapy</td>\n",
       "    </tr>\n",
       "    <tr>\n",
       "      <th>4</th>\n",
       "      <td>4</td>\n",
       "      <td>NCT00008281</td>\n",
       "      <td>Sanofi</td>\n",
       "      <td>A Multicenter, Open-Label, Randomized, Three-A...</td>\n",
       "      <td>RATIONALE: Drugs used in chemotherapy use diff...</td>\n",
       "      <td>2000</td>\n",
       "      <td>10</td>\n",
       "      <td>Phase 3</td>\n",
       "      <td>0</td>\n",
       "      <td>Unknown status</td>\n",
       "      <td>Colorectal Neoplasms</td>\n",
       "      <td>['multicenter', 'openlabel', 'threearm', '5flu...</td>\n",
       "      <td>['rationale', 'drugs', 'used', 'chemotherapy',...</td>\n",
       "      <td>A Multicenter, Open-Label, Randomized, Three-A...</td>\n",
       "      <td>Cancer &amp; Chemotherapy</td>\n",
       "    </tr>\n",
       "  </tbody>\n",
       "</table>\n",
       "</div>"
      ],
      "text/plain": [
       "   index          NCT Sponsor  \\\n",
       "0      0  NCT00003305  Sanofi   \n",
       "1      1  NCT00003821  Sanofi   \n",
       "2      2  NCT00004025  Sanofi   \n",
       "3      3  NCT00005645  Sanofi   \n",
       "4      4  NCT00008281  Sanofi   \n",
       "\n",
       "                                               Title  \\\n",
       "0  A Phase II Trial of Aminopterin in Adults and ...   \n",
       "1  Phase II Trial of Aminopterin in Patients With...   \n",
       "2  Phase I/II Trial of the Safety, Immunogenicity...   \n",
       "3  Phase II Trial of ILX295501 Administered Orall...   \n",
       "4  A Multicenter, Open-Label, Randomized, Three-A...   \n",
       "\n",
       "                                             Summary  Start_Year  Start_Month  \\\n",
       "0  RATIONALE: Drugs used in chemotherapy use diff...        1997            7   \n",
       "1  RATIONALE: Drugs used in chemotherapy use diff...        1998            1   \n",
       "2  RATIONALE: Vaccines made from a person's white...        1999            3   \n",
       "3  RATIONALE: Drugs used in chemotherapy use diff...        1999            5   \n",
       "4  RATIONALE: Drugs used in chemotherapy use diff...        2000           10   \n",
       "\n",
       "             Phase  Enrollment          Status              Condition  \\\n",
       "0          Phase 2          75       Completed               Leukemia   \n",
       "1          Phase 2           0       Withdrawn  Endometrial Neoplasms   \n",
       "2  Phase 1/Phase 2          36  Unknown status               Melanoma   \n",
       "3          Phase 2           0       Withdrawn      Ovarian Neoplasms   \n",
       "4          Phase 3           0  Unknown status   Colorectal Neoplasms   \n",
       "\n",
       "                                         clean_title  \\\n",
       "0  ['ii', 'aminopterin', 'adults', 'children', 'r...   \n",
       "1  ['ii', 'aminopterin', 'persistent', 'or', 'rec...   \n",
       "2  ['iii', 'immunogenicity', 'autologous', 'dendr...   \n",
       "3  ['ii', 'ilx295501', 'administered', 'orally', ...   \n",
       "4  ['multicenter', 'openlabel', 'threearm', '5flu...   \n",
       "\n",
       "                                       clean_summary  \\\n",
       "0  ['rationale', 'drugs', 'used', 'chemotherapy',...   \n",
       "1  ['rationale', 'drugs', 'used', 'chemotherapy',...   \n",
       "2  ['rationale', 'vaccines', 'made', 'from', 'per...   \n",
       "3  ['rationale', 'drugs', 'used', 'chemotherapy',...   \n",
       "4  ['rationale', 'drugs', 'used', 'chemotherapy',...   \n",
       "\n",
       "                                       combined_text         Trial_Category  \n",
       "0  A Phase II Trial of Aminopterin in Adults and ...  Cancer & Chemotherapy  \n",
       "1  Phase II Trial of Aminopterin in Patients With...  Cancer & Chemotherapy  \n",
       "2  Phase I/II Trial of the Safety, Immunogenicity...  Cancer & Chemotherapy  \n",
       "3  Phase II Trial of ILX295501 Administered Orall...  Cancer & Chemotherapy  \n",
       "4  A Multicenter, Open-Label, Randomized, Three-A...  Cancer & Chemotherapy  "
      ]
     },
     "execution_count": 4,
     "metadata": {},
     "output_type": "execute_result"
    }
   ],
   "source": [
    "df.head()"
   ]
  },
  {
   "cell_type": "code",
   "execution_count": 5,
   "id": "4ea72c55-b6f7-4e2c-885a-b73514713d99",
   "metadata": {},
   "outputs": [
    {
     "data": {
      "text/plain": [
       "index               0\n",
       "NCT                 0\n",
       "Sponsor             0\n",
       "Title             144\n",
       "Summary             0\n",
       "Start_Year          0\n",
       "Start_Month         0\n",
       "Phase             263\n",
       "Enrollment          0\n",
       "Status              0\n",
       "Condition           0\n",
       "clean_title         0\n",
       "clean_summary       0\n",
       "combined_text       0\n",
       "Trial_Category      0\n",
       "dtype: int64"
      ]
     },
     "execution_count": 5,
     "metadata": {},
     "output_type": "execute_result"
    }
   ],
   "source": [
    "df.isnull().sum()  "
   ]
  },
  {
   "cell_type": "code",
   "execution_count": 6,
   "id": "bbe153dc-2c84-42ea-ad7c-15059961d8b1",
   "metadata": {},
   "outputs": [],
   "source": [
    "df.fillna({\"Title\" : \"Unknown\"}, inplace = True)\n",
    "df.fillna({\"Summary\" : \"Unknown\"}, inplace = True)\n",
    "df.dropna(subset=[\"Phase\", \"Condition\", \"Status\"], inplace = True)"
   ]
  },
  {
   "cell_type": "code",
   "execution_count": 7,
   "id": "fad3c84c-92aa-4571-b14d-af60d9560338",
   "metadata": {},
   "outputs": [
    {
     "data": {
      "text/plain": [
       "index             0\n",
       "NCT               0\n",
       "Sponsor           0\n",
       "Title             0\n",
       "Summary           0\n",
       "Start_Year        0\n",
       "Start_Month       0\n",
       "Phase             0\n",
       "Enrollment        0\n",
       "Status            0\n",
       "Condition         0\n",
       "clean_title       0\n",
       "clean_summary     0\n",
       "combined_text     0\n",
       "Trial_Category    0\n",
       "dtype: int64"
      ]
     },
     "execution_count": 7,
     "metadata": {},
     "output_type": "execute_result"
    }
   ],
   "source": [
    "df.isnull().sum()"
   ]
  },
  {
   "cell_type": "code",
   "execution_count": 8,
   "id": "d101cfc5-961a-4022-a844-af6c6b9c6d6c",
   "metadata": {},
   "outputs": [],
   "source": [
    "# Standardize Phase names\n",
    "phase_mapping = { \n",
    "    \"Phase I\": \"Phase 1\",\n",
    "    \"Phase I/II\": \"Phase 1/2\",\n",
    "    \"Phase II\": \"Phase 2\",\n",
    "    \"Phase II/III\": \"Phase 2/3\",\n",
    "    \"Phase III\": \"Phase 3\",\n",
    "    \"Phase IV\" : \"Phase 4\"\n",
    "}\n",
    "df[\"Phase\"] = df[\"Phase\"].replace(phase_mapping)"
   ]
  },
  {
   "cell_type": "code",
   "execution_count": 9,
   "id": "9b338411-8786-4891-8d11-1d403458b967",
   "metadata": {},
   "outputs": [
    {
     "name": "stdout",
     "output_type": "stream",
     "text": [
      "['Phase 2' 'Phase 1/Phase 2' 'Phase 3' 'Phase 2/Phase 3' 'Phase 4'\n",
      " 'Phase 1' 'Early Phase 1']\n"
     ]
    }
   ],
   "source": [
    "print(df['Phase'].unique())"
   ]
  },
  {
   "cell_type": "code",
   "execution_count": 29,
   "id": "fe8aa121-6f45-4f90-a30a-2f1f2a217489",
   "metadata": {},
   "outputs": [],
   "source": [
    "df.drop_duplicates(subset = [\"NCT\"], inplace = True)"
   ]
  },
  {
   "cell_type": "code",
   "execution_count": 31,
   "id": "d1ecb2ec-075e-4921-ab05-2ba5e5184aa8",
   "metadata": {},
   "outputs": [
    {
     "data": {
      "text/plain": [
       "count    13485.000000\n",
       "mean       431.650501\n",
       "std       1802.572541\n",
       "min          0.000000\n",
       "25%         40.000000\n",
       "50%        124.000000\n",
       "75%        369.000000\n",
       "max      84496.000000\n",
       "Name: Enrollment, dtype: float64"
      ]
     },
     "execution_count": 31,
     "metadata": {},
     "output_type": "execute_result"
    }
   ],
   "source": [
    "df[\"Enrollment\"].describe()  # Check min, max, median"
   ]
  },
  {
   "cell_type": "code",
   "execution_count": 53,
   "id": "ee0b9428-30b7-4ac1-89f0-85cec0929b58",
   "metadata": {},
   "outputs": [],
   "source": [
    "df[\"Enrollment_Category\"] = pd.cut(df[\"Enrollment\"], bins=[0, 100, 1000, 5000, 10000, 50000, df[\"Enrollment\"].max()], \n",
    "                                   labels=[\"Small (<100)\", \"Medium (100-1K)\", \"Large (1K-5K)\", \n",
    "                                           \"Very Large (5K-10K)\", \"Massive (10K-50K)\", \"Ultra Large (50K+)\"])"
   ]
  },
  {
   "cell_type": "code",
   "execution_count": 55,
   "id": "5bae65e9-0e8e-444d-a910-c510743c9564",
   "metadata": {},
   "outputs": [
    {
     "name": "stdout",
     "output_type": "stream",
     "text": [
      "Enrollment_Category\n",
      "Medium (100-1K)        6409\n",
      "Small (<100)           5709\n",
      "Large (1K-5K)           826\n",
      "Very Large (5K-10K)      75\n",
      "Massive (10K-50K)        56\n",
      "Ultra Large (50K+)        3\n",
      "Name: count, dtype: int64\n"
     ]
    }
   ],
   "source": [
    "print(df[\"Enrollment_Category\"].value_counts())"
   ]
  },
  {
   "cell_type": "code",
   "execution_count": null,
   "id": "897dd700-64d2-47c7-b563-fbd5abf50c66",
   "metadata": {},
   "outputs": [],
   "source": []
  },
  {
   "cell_type": "code",
   "execution_count": 57,
   "id": "ae1a5de4-4ac0-4c96-b6d6-14253b14aedc",
   "metadata": {},
   "outputs": [],
   "source": [
    "df.to_csv(\"cleaned_AERO_BirdsEye_Categorized.csv\", index=False)\n"
   ]
  },
  {
   "cell_type": "code",
   "execution_count": null,
   "id": "f57eb0f9-ca84-4423-86a2-0289e3156c65",
   "metadata": {},
   "outputs": [],
   "source": []
  }
 ],
 "metadata": {
  "kernelspec": {
   "display_name": "Python [conda env:base] *",
   "language": "python",
   "name": "conda-base-py"
  },
  "language_info": {
   "codemirror_mode": {
    "name": "ipython",
    "version": 3
   },
   "file_extension": ".py",
   "mimetype": "text/x-python",
   "name": "python",
   "nbconvert_exporter": "python",
   "pygments_lexer": "ipython3",
   "version": "3.12.7"
  }
 },
 "nbformat": 4,
 "nbformat_minor": 5
}
